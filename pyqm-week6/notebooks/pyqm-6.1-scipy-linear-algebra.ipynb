{
 "cells": [
  {
   "cell_type": "markdown",
   "id": "bc8fd83d",
   "metadata": {},
   "source": [
    "<center>\n",
    "    \n",
    "# Python For Quantum Mechanics\n",
    "# Week 6: Linear Algebra\n",
    "\n",
    "</center>"
   ]
  },
  {
   "cell_type": "code",
   "execution_count": 27,
   "id": "4bcff732",
   "metadata": {},
   "outputs": [
    {
     "data": {
      "image/jpeg": "[encoded data removed]",
      "text/html": [
       "\n",
       "        <iframe\n",
       "            width=\"700\"\n",
       "            height=\"400\"\n",
       "            src=\"https://www.youtube.com/embed/EQWi8rliCqY\"\n",
       "            frameborder=\"0\"\n",
       "            allowfullscreen\n",
       "            \n",
       "        ></iframe>\n",
       "        "
      ],
      "text/plain": [
       "<IPython.lib.display.YouTubeVideo at 0x15fdb2610>"
      ]
     },
     "execution_count": 27,
     "metadata": {},
     "output_type": "execute_result"
    }
   ],
   "source": [
    "from IPython.display import YouTubeVideo\n",
    "YouTubeVideo('EQWi8rliCqY', width=700, height=400)"
   ]
  },
  {
   "cell_type": "code",
   "execution_count": 29,
   "id": "c6b583ae",
   "metadata": {},
   "outputs": [],
   "source": [
    "import numpy as np\n",
    "import numpy.random as rnd\n",
    "\n",
    "import scipy\n",
    "import scipy.linalg as linalg\n",
    "from scipy import stats\n",
    "# Here we imported scipy as well as linalg from scipy. We should normally avoid such redundancy.\n",
    "# SciPy's recommended way of importing is following -> from scipy import linalg, stats, ...\n",
    "\n",
    "import matplotlib.pyplot as plt"
   ]
  },
  {
   "cell_type": "code",
   "execution_count": 30,
   "metadata": {},
   "outputs": [
    {
     "data": {
      "text/plain": [
       "True"
      ]
     },
     "execution_count": 30,
     "metadata": {},
     "output_type": "execute_result"
    }
   ],
   "source": [
    "scipy.linalg is linalg"
   ]
  },
  {
   "cell_type": "markdown",
   "id": "0ab35b4f",
   "metadata": {},
   "source": [
    "You may be wondering why we are diving into another linear algebra library considering we have already studied `numpy.linalg`. Simply put, `scipy.linalg` contains everything that `numpy.linalg` does but offers additional functionality. It is used in conjuction with numpy ndarrays. \n",
    "\n",
    "> Q: Try finding out what are key differences and similarities between numpy.linalg and scipy.linalg"
   ]
  },
  {
   "cell_type": "markdown",
   "id": "8f6a755e",
   "metadata": {},
   "source": [
    "## Linear Systems"
   ]
  },
  {
   "cell_type": "markdown",
   "id": "0b2a0419",
   "metadata": {},
   "source": [
    "We can use `scipy.linalg.solve()` to solve, for $\\bf{x}$, linear systems of the form\n",
    "$$ A x = b $$\n",
    "where $A$ is a matrix, $x$ and $b$ are vectors.\n",
    "\n",
    "> Q: Mathematically, will you always find a solution of $A x = b$? "
   ]
  },
  {
   "cell_type": "code",
   "execution_count": 32,
   "id": "93e64a95",
   "metadata": {},
   "outputs": [
    {
     "name": "stdout",
     "output_type": "stream",
     "text": [
      "A =  [[1 0 2]\n",
      " [0 1 2]\n",
      " [2 1 0]] \n",
      "\n",
      "b =  [[ 6]\n",
      " [12]\n",
      " [18]] \n",
      "\n",
      "x =  [[ 4.]\n",
      " [10.]\n",
      " [ 1.]]\n",
      "Ax - b =  [[0.]\n",
      " [0.]\n",
      " [0.]]\n"
     ]
    }
   ],
   "source": [
    "A = np.array([[1,0,2],[0,1,2],[2,1,0]])\n",
    "b = np.array([[6],[12],[18]])\n",
    "\n",
    "x = linalg.solve(A, b)\n",
    "\n",
    "print('A = ',A,'\\n')\n",
    "print('b = ',b,'\\n')\n",
    "print('x = ', x)\n",
    "print('Ax - b = ', A@x - b)"
   ]
  },
  {
   "cell_type": "markdown",
   "metadata": {},
   "source": [
    "Consider following code, check out the output of this -\n",
    "\n",
    "``` python\n",
    "aa = np.array([[1,1], [1, 1]])\n",
    "bb = np.array([1,2])\n",
    "print(aa, bb)\n",
    "x = linalg.solve(aa, bb)\n",
    "```\n"
   ]
  },
  {
   "cell_type": "markdown",
   "id": "24d3844d",
   "metadata": {},
   "source": [
    "We can also solve systems of the form \n",
    "\n",
    "$$ A X = B $$\n",
    "\n",
    "where $A$, $X$, and $B$ are all matrices. Typically, this is often simple generalization of previous $Ax = b$ problem, for a solving equation of given $A$ but for many copies of $b$."
   ]
  },
  {
   "cell_type": "code",
   "execution_count": 35,
   "id": "195e4a48",
   "metadata": {},
   "outputs": [
    {
     "name": "stdout",
     "output_type": "stream",
     "text": [
      "A =  [[1 0 2]\n",
      " [0 1 2]\n",
      " [2 1 0]] \n",
      "\n",
      "b =  [[6, 3, -6], [12, 6, -12], [18, 36, -18]] \n",
      "\n",
      "x =  [[  4.  11.  -4.]\n",
      " [ 10.  14. -10.]\n",
      " [  1.  -4.  -1.]]\n"
     ]
    },
    {
     "data": {
      "image/png": "[encoded data removed]",
      "text/plain": [
       "<Figure size 700x700 with 2 Axes>"
      ]
     },
     "metadata": {},
     "output_type": "display_data"
    }
   ],
   "source": [
    "A = np.array([[1,0,2],[0,1,2],[2,1,0]])\n",
    "B = [[6,3,-6],[12,6,-12],[18,36,-18]]\n",
    "\n",
    "X = linalg.solve(A, B)\n",
    "\n",
    "print('A = ',A,'\\n')\n",
    "print('b = ',B,'\\n')\n",
    "print('x = ', X)\n",
    "\n",
    "fig = plt.figure(figsize = (7,7))\n",
    "ax = fig.add_axes([.1,.1,.8,.8])\n",
    "\n",
    "im = ax.imshow(X, cmap='seismic')\n",
    "fig.colorbar(im, ax=ax)\n",
    "im.set_clim(vmin=-10, vmax=20)\n",
    "\n",
    "plt.show()"
   ]
  },
  {
   "cell_type": "markdown",
   "id": "1df405a3",
   "metadata": {},
   "source": [
    "## Matrix Functions"
   ]
  },
  {
   "cell_type": "markdown",
   "id": "bd85aed4",
   "metadata": {},
   "source": [
    "Scipy provides several functions to compute functions of matrices, with either matrix, or scalar output. Common examples include computing determinant, trace, transpose and inverse of matrices."
   ]
  },
  {
   "cell_type": "markdown",
   "metadata": {},
   "source": [
    "The function `scipy.linalg.inv(A)` computes the inverse of a matrix `A`."
   ]
  },
  {
   "cell_type": "code",
   "execution_count": 36,
   "id": "de7afdb5",
   "metadata": {},
   "outputs": [
    {
     "name": "stdout",
     "output_type": "stream",
     "text": [
      "A =  [[0.79565993 0.93963841 0.80108429]\n",
      " [0.91848384 0.56806837 0.47002508]\n",
      " [0.20451638 0.21208673 0.79074078]] \n",
      "\n",
      "A^-1 =  [[-1.39220359  2.28288218  0.05344425]\n",
      " [ 2.51010537 -1.85353984 -1.44117489]\n",
      " [-0.31316408 -0.09329933  1.6373556 ]]\n"
     ]
    }
   ],
   "source": [
    "A = rnd.random((3,3))\n",
    "print('A = ', A,'\\n')\n",
    "\n",
    "print('A^-1 = ',linalg.inv(A))"
   ]
  },
  {
   "cell_type": "markdown",
   "metadata": {},
   "source": [
    "The function `scipy.linalg.expm` computes the determinant of a matrix `A`"
   ]
  },
  {
   "cell_type": "code",
   "execution_count": 37,
   "metadata": {},
   "outputs": [
    {
     "name": "stdout",
     "output_type": "stream",
     "text": [
      "exp(A) =  [[3.48308471 2.44793675 2.62414311]\n",
      " [2.31375521 2.8641687  1.95757257]\n",
      " [0.76268791 0.72523388 2.60711291]]\n"
     ]
    }
   ],
   "source": [
    "print('exp(A) = ', linalg.expm(A))"
   ]
  },
  {
   "cell_type": "markdown",
   "id": "8bd5853e",
   "metadata": {},
   "source": [
    "The function `scipy.linalg.det(A)` computes the determinant of a matrix `A`."
   ]
  },
  {
   "cell_type": "code",
   "execution_count": 38,
   "id": "7ca79cdb",
   "metadata": {},
   "outputs": [
    {
     "name": "stdout",
     "output_type": "stream",
     "text": [
      "det(A) =  -0.2510471512872222\n"
     ]
    }
   ],
   "source": [
    "print('det(A) = ',linalg.det(A))"
   ]
  },
  {
   "cell_type": "markdown",
   "id": "527fc382",
   "metadata": {},
   "source": [
    "Another function, `scipy.linalg.norm(A, ord=2)` computes the modulus of order `ord`. If `ord` $=$ `np.inf`, then the maximum value in $A$ is given. If `ord` $=$ `-np.inf`, then the minimum value in `A` is given."
   ]
  },
  {
   "cell_type": "code",
   "execution_count": 39,
   "id": "07743c27",
   "metadata": {},
   "outputs": [
    {
     "name": "stdout",
     "output_type": "stream",
     "text": [
      "norm(A,ord=1) = 4 + 3 + 1 + 2 + 2 + 1 + 1 =  14.0\n",
      "norm(A,ord=2) = (4**2 + 3**2 + 1**2 + 2**2 + 2**2 + 1**2 + 1**2)**(1/2) =  6.0\n",
      "norm(A,ord=3) = (4**3 + 3**3 + 1**3 + 2**3 + 2**3 + 1**3 + 1**3)**(1/3) =  4.791419857062784\n",
      "norm(A,ord=-np.inf) =  1.0\n",
      "norm(A,ord=np.inf) =  4.0\n"
     ]
    }
   ],
   "source": [
    "A = np.array([4,3,1,2,2,1,1])\n",
    "\n",
    "print('norm(A,ord=1) = 4 + 3 + 1 + 2 + 2 + 1 + 1 = ',linalg.norm(A, ord=1))\n",
    "print('norm(A,ord=2) = (4**2 + 3**2 + 1**2 + 2**2 + 2**2 + 1**2 + 1**2)**(1/2) = ',linalg.norm(A))\n",
    "print('norm(A,ord=3) = (4**3 + 3**3 + 1**3 + 2**3 + 2**3 + 1**3 + 1**3)**(1/3) = ',linalg.norm(A, ord=3))\n",
    "print('norm(A,ord=-np.inf) = ',linalg.norm(A, ord=-np.inf))\n",
    "print('norm(A,ord=np.inf) = ',linalg.norm(A, ord=np.inf))"
   ]
  },
  {
   "cell_type": "markdown",
   "id": "f9c6119f",
   "metadata": {},
   "source": [
    "## Spectral Decomposition"
   ]
  },
  {
   "cell_type": "markdown",
   "id": "05722290",
   "metadata": {},
   "source": [
    "We can represent a matrix in terms of it's eigenvectors and eigenvalues, or in other words, perform a spectral decomposition; `scipy.linalg.eig(A)` can be used to achive this by computing the eigenvalues and eigenvectors of `A`, giving a tuple."
   ]
  },
  {
   "cell_type": "code",
   "execution_count": 40,
   "id": "802e92ad",
   "metadata": {},
   "outputs": [
    {
     "name": "stdout",
     "output_type": "stream",
     "text": [
      "Eigenvalues =  [ 2.1571515+0.j -0.2511262+0.j  0.0255913+0.j] \n",
      "\n",
      "Eigenvector Matrix =  [[-0.48012849 -0.63035729 -0.46959699]\n",
      " [-0.67539884  0.68623736 -0.16116989]\n",
      " [-0.55974373 -0.36294348  0.86804547]] \n",
      "\n",
      "First Eigenvector =  [-0.48012849 -0.67539884 -0.55974373] \n",
      "\n"
     ]
    }
   ],
   "source": [
    "A = rnd.random((3,3))\n",
    "\n",
    "eigval, eigvec = linalg.eig(A)\n",
    "\n",
    "print('Eigenvalues = ',eigval, '\\n')\n",
    "print('Eigenvector Matrix = ',eigvec, '\\n')\n",
    "\n",
    "print('First Eigenvector = ',eigvec[:,0], '\\n')"
   ]
  },
  {
   "cell_type": "markdown",
   "id": "cbc6fff9",
   "metadata": {},
   "source": [
    "## Special Matrices"
   ]
  },
  {
   "cell_type": "markdown",
   "id": "2ba90699",
   "metadata": {},
   "source": [
    "Scipy supports the creation of special matrices that are commonly used. A full list can be found at https://docs.scipy.org/doc/scipy/reference/tutorial/linalg.html. \n",
    "\n",
    "For example, we can create a Hadamard matrix of order `n` using `scipy.linalg.hadamard(n)`. The integer `n` must be a power of $2$."
   ]
  },
  {
   "cell_type": "code",
   "execution_count": 41,
   "id": "af3f7195",
   "metadata": {},
   "outputs": [
    {
     "name": "stdout",
     "output_type": "stream",
     "text": [
      "[[ 1  1]\n",
      " [ 1 -1]]\n"
     ]
    }
   ],
   "source": [
    "H = linalg.hadamard(n=2)\n",
    "\n",
    "print(H)"
   ]
  },
  {
   "cell_type": "code",
   "execution_count": 42,
   "id": "4d92ff8f",
   "metadata": {},
   "outputs": [
    {
     "data": {
      "image/png": "[encoded data removed]",
      "text/plain": [
       "<Figure size 700x700 with 2 Axes>"
      ]
     },
     "metadata": {},
     "output_type": "display_data"
    }
   ],
   "source": [
    "H = linalg.hadamard(n=2**8)\n",
    "\n",
    "fig = plt.figure(figsize = (7,7))\n",
    "ax = fig.add_axes([.1,.1,.8,.8])\n",
    "\n",
    "im = ax.imshow(H, cmap='winter')\n",
    "fig.colorbar(im, ticks=[-1,1])\n",
    "\n",
    "plt.show()"
   ]
  },
  {
   "cell_type": "markdown",
   "id": "d462820d",
   "metadata": {},
   "source": [
    "## Sparse Matrix"
   ]
  },
  {
   "cell_type": "markdown",
   "id": "10f56421",
   "metadata": {},
   "source": [
    "A sparse matrix (loosely defined) is a matrix with a many zero elements. When dealing with large sparse matrices it is extrememly useful to take advantage of their sparseness and the memory requirements, speeding-up our code. To convert from a memory dense matrix to a memory sparse matrix we use `scipy.sparse.csr_matrix(A)`."
   ]
  },
  {
   "cell_type": "code",
   "execution_count": 43,
   "id": "78ba43e2",
   "metadata": {},
   "outputs": [
    {
     "name": "stdout",
     "output_type": "stream",
     "text": [
      "[[0 0 1]\n",
      " [2 0 0]\n",
      " [0 3 0]] \n",
      "\n",
      "<class 'scipy.sparse._csr.csr_matrix'> \n",
      "\n",
      "  (0, 2)\t1\n",
      "  (1, 0)\t2\n",
      "  (2, 1)\t3\n"
     ]
    }
   ],
   "source": [
    "A = np.array([[0,0,1],[2,0,0],[0,3,0]])\n",
    "print(A,'\\n')\n",
    "\n",
    "A = scipy.sparse.csr_matrix(A)\n",
    "print(type(A),'\\n')\n",
    "print(A)"
   ]
  },
  {
   "cell_type": "markdown",
   "id": "5e26518b",
   "metadata": {},
   "source": [
    "Notice that each tuple corrseonds to the element location. We can conceivably represent any matrix in this form, but clearly this would be less efficient for non-sparse matrices. We can perform the standard matrix operations with sparse matrices as shown below. To convert back to a dense matrix, we use the `A.todense()`."
   ]
  },
  {
   "cell_type": "code",
   "execution_count": 44,
   "id": "15937567",
   "metadata": {},
   "outputs": [
    {
     "name": "stdout",
     "output_type": "stream",
     "text": [
      "[[0 0 1]\n",
      " [2 0 0]\n",
      " [0 3 0]] \n",
      "\n",
      "[[0 0 2]\n",
      " [4 0 0]\n",
      " [0 6 0]] \n",
      "\n",
      "[[0 3 0]\n",
      " [0 0 2]\n",
      " [6 0 0]] \n",
      "\n",
      "[[0 3 0]\n",
      " [0 0 2]\n",
      " [6 0 0]] \n",
      "\n",
      "  (0, 2)\t1\n",
      "  (1, 0)\t2\n",
      "  (2, 1)\t3 \n",
      "\n",
      "[[3]\n",
      " [2]\n",
      " [6]]\n"
     ]
    }
   ],
   "source": [
    "print(A.todense(),'\\n')\n",
    "\n",
    "print((A+A).todense(),'\\n')\n",
    "\n",
    "print((A*A).todense(),'\\n')\n",
    "\n",
    "print((A.dot(A)).todense(),'\\n')\n",
    "\n",
    "print(A, '\\n')\n",
    "\n",
    "vec = np.array([[1],[2],[3]])\n",
    "\n",
    "print((A*vec))"
   ]
  },
  {
   "cell_type": "markdown",
   "id": "63ab4df2",
   "metadata": {},
   "source": [
    "It is also useful to initialise an empty sparse matrix and then populate it with non-zero elements with `scipy.sparse.lil_matrix((n,m))`. This saves us from creating a very large matrix with many zeros in the first place."
   ]
  },
  {
   "cell_type": "code",
   "execution_count": 45,
   "id": "f9af87d1",
   "metadata": {},
   "outputs": [
    {
     "name": "stdout",
     "output_type": "stream",
     "text": [
      "  (0, 0)\t1.0\n",
      "  (0, 1)\t2.0\n",
      "  (2, 0)\t7.0\n",
      "  (2, 2)\t1.0 \n",
      "\n",
      "[[1. 2. 0.]\n",
      " [0. 0. 0.]\n",
      " [7. 0. 1.]]\n"
     ]
    }
   ],
   "source": [
    "A = scipy.sparse.lil_matrix((3,3)) #Empty 3x3 sparse matrix\n",
    "\n",
    "A[0,0] = 1\n",
    "A[0,1] = 2\n",
    "A[2,0] = 7\n",
    "A[2,2] = 1\n",
    "\n",
    "\n",
    "print(A,'\\n')\n",
    "print(A.todense())"
   ]
  },
  {
   "cell_type": "markdown",
   "id": "3023f511",
   "metadata": {},
   "source": [
    "## Matrix Exponential"
   ]
  },
  {
   "cell_type": "markdown",
   "id": "b40a37ae",
   "metadata": {},
   "source": [
    "The matrix exponential of a matrix $A$ is written as\n",
    "\n",
    "$$ \\exp (A) = e^{A} = \\sum_{k=0}^{\\infty} \\frac{1}{k!}A^k . $$\n",
    "\n",
    "This seems like a monumental task but it can easily be achieved with `scipy.linalg.expm(A)`."
   ]
  },
  {
   "cell_type": "code",
   "execution_count": 46,
   "id": "6e937f1d",
   "metadata": {},
   "outputs": [
    {
     "name": "stdout",
     "output_type": "stream",
     "text": [
      "[[ 0.5  0.5  0.5  0.5]\n",
      " [ 0.5 -0.5  0.5 -0.5]\n",
      " [ 0.5  0.5 -0.5 -0.5]\n",
      " [ 0.5 -0.5 -0.5  0.5]] \n",
      "\n",
      "[[ 2.13068123  0.5876006   0.5876006   0.5876006 ]\n",
      " [ 0.5876006   0.95548004  0.5876006  -0.5876006 ]\n",
      " [ 0.5876006   0.5876006   0.95548004 -0.5876006 ]\n",
      " [ 0.5876006  -0.5876006  -0.5876006   2.13068123]] \n",
      "\n"
     ]
    }
   ],
   "source": [
    "n=4\n",
    "A = (1/np.sqrt(n))*linalg.hadamard(n)\n",
    "print(A,'\\n')\n",
    "\n",
    "expA = linalg.expm(A)\n",
    "\n",
    "print(expA,'\\n')"
   ]
  },
  {
   "cell_type": "markdown",
   "id": "98215844",
   "metadata": {},
   "source": [
    "Also we can verify that \n",
    "$$ \\exp \\left(A^T\\right) = \\exp \\left(A\\right)^T $$\n",
    "and\n",
    "$$ \\exp \\left(A^\\dagger \\right) = \\exp \\left(A \\right)^\\dagger $$\n",
    "up to a computational error."
   ]
  },
  {
   "cell_type": "code",
   "execution_count": 47,
   "id": "c65b2301",
   "metadata": {},
   "outputs": [
    {
     "name": "stdout",
     "output_type": "stream",
     "text": [
      "[[ True  True  True  True]\n",
      " [ True  True  True  True]\n",
      " [ True  True  True  True]\n",
      " [ True  True  True  True]] \n",
      "\n",
      "[[ True  True  True  True]\n",
      " [ True  True  True  True]\n",
      " [ True  True  True  True]\n",
      " [ True  True  True  True]] \n",
      "\n"
     ]
    }
   ],
   "source": [
    "A = rnd.random((n,n)) + 1j*rnd.random((n,n))\n",
    "\n",
    "Q = np.round(linalg.expm(A).T,3) == np.round(linalg.expm(A.T),3)\n",
    "print(Q,'\\n')\n",
    "\n",
    "Q = np.round((np.matrix(linalg.expm(A))).H,3) == np.round(linalg.expm(np.matrix(A).H),3)\n",
    "print(Q,'\\n')"
   ]
  },
  {
   "cell_type": "markdown",
   "id": "00268ad6",
   "metadata": {},
   "source": [
    "One key point with matrices is that if $A$ and $B$ do not commute,\n",
    "$$AB \\neq BA \\iff [A,B]= AB -BA \\neq0.$$\n",
    "then\n",
    "$$ e^A e^B \\neq e^{A+B}.$$\n",
    "\n",
    "But if \n",
    "$$[A,B]= AB -BA =0$$\n",
    "then\n",
    "$$e^Ae^B = e^{A+B}. $$"
   ]
  },
  {
   "cell_type": "code",
   "execution_count": 48,
   "id": "9f048e18",
   "metadata": {},
   "outputs": [
    {
     "name": "stdout",
     "output_type": "stream",
     "text": [
      "[[ True  True]\n",
      " [ True  True]] \n",
      "\n",
      "[[False False]\n",
      " [False False]] \n",
      "\n"
     ]
    }
   ],
   "source": [
    "A = np.array([[0,1],[0,0]])\n",
    "B = np.eye(2)\n",
    "# These matrices commute\n",
    "\n",
    "EA = linalg.expm(A)@linalg.expm(B) == linalg.expm(A+B)\n",
    "print(EA,'\\n')\n",
    "\n",
    "A = np.array([[0,1],[0,0]])\n",
    "B = np.array([[0,1],[1,0]])\n",
    "# These matrices do not commute\n",
    "\n",
    "EA = linalg.expm(A)@linalg.expm(B) == linalg.expm(A+B)\n",
    "print(EA,'\\n')"
   ]
  },
  {
   "cell_type": "markdown",
   "id": "23a839ed",
   "metadata": {},
   "source": [
    "## Unitary Matrix"
   ]
  },
  {
   "cell_type": "markdown",
   "id": "405bba2d",
   "metadata": {},
   "source": [
    "A Unitary Matrix is defined as a matrix that satisfies the following equation,\n",
    "$$AA^{\\dagger} =  A^{\\dagger}A = \\mathbb{1}$$\n",
    "where $\\mathbb{1}$ is the identity matrix. In other words the Hermitian conjugate of the matrix is it's multiplicative inverse,\n",
    "$$A^{-1} = A^\\dagger$$\n",
    "The Hadamard gate is unitary as we see below."
   ]
  },
  {
   "cell_type": "code",
   "execution_count": 49,
   "id": "b3090022",
   "metadata": {},
   "outputs": [
    {
     "name": "stdout",
     "output_type": "stream",
     "text": [
      "[[ 0.5  0.5  0.5  0.5]\n",
      " [ 0.5 -0.5  0.5 -0.5]\n",
      " [ 0.5  0.5 -0.5 -0.5]\n",
      " [ 0.5 -0.5 -0.5  0.5]] \n",
      "\n",
      "[[ True  True  True  True]\n",
      " [ True  True  True  True]\n",
      " [ True  True  True  True]\n",
      " [ True  True  True  True]] \n",
      "\n",
      "[[1. 0. 0. 0.]\n",
      " [0. 1. 0. 0.]\n",
      " [0. 0. 1. 0.]\n",
      " [0. 0. 0. 1.]] \n",
      "\n"
     ]
    }
   ],
   "source": [
    "n=4\n",
    "A = (1/np.sqrt(n))*linalg.hadamard(n)\n",
    "print(A,'\\n')\n",
    "A = np.matrix(A)\n",
    "\n",
    "print(A*A.H==A.H*A,'\\n')\n",
    "\n",
    "print(A*A.H,'\\n')"
   ]
  },
  {
   "cell_type": "markdown",
   "id": "0c86a55b",
   "metadata": {},
   "source": [
    "We can also generate a random unitary matrix, of dimension `n`, using `scipy.stats.unitary_group.rvs(n)`."
   ]
  },
  {
   "cell_type": "code",
   "execution_count": 50,
   "id": "012519a7",
   "metadata": {},
   "outputs": [
    {
     "name": "stdout",
     "output_type": "stream",
     "text": [
      "[[ 1.-0.j  0.+0.j  0.+0.j -0.+0.j]\n",
      " [ 0.-0.j  1.-0.j -0.-0.j -0.-0.j]\n",
      " [ 0.-0.j -0.+0.j  1.+0.j  0.-0.j]\n",
      " [-0.-0.j -0.-0.j  0.+0.j  1.+0.j]] \n",
      "\n",
      "[[ 0.084-0.002j -0.39 +0.416j  0.013+0.118j -0.779+0.215j]\n",
      " [-0.546+0.053j  0.525+0.222j  0.39 -0.018j -0.3  -0.364j]\n",
      " [-0.099+0.489j -0.31 -0.098j  0.576+0.501j  0.212+0.13j ]\n",
      " [-0.341-0.572j -0.311-0.384j  0.409-0.287j -0.054+0.244j]] \n",
      "\n",
      "[[ 1.-0.j  0.+0.j -0.-0.j  0.-0.j]\n",
      " [ 0.-0.j  1.+0.j -0.-0.j -0.-0.j]\n",
      " [-0.-0.j -0.+0.j  1.-0.j  0.+0.j]\n",
      " [ 0.+0.j -0.-0.j  0.-0.j  1.+0.j]]\n"
     ]
    }
   ],
   "source": [
    "U = stats.unitary_group.rvs(n)\n",
    "\n",
    "print(np.round(np.dot(U,U.conj().T)),'\\n')\n",
    "\n",
    "U = np.matrix(U)\n",
    "\n",
    "print(np.round(U,3),'\\n')\n",
    "\n",
    "print(np.round(U.H*U))"
   ]
  },
  {
   "cell_type": "markdown",
   "id": "183e1082",
   "metadata": {},
   "source": [
    "## Tensor Product"
   ]
  },
  {
   "cell_type": "markdown",
   "id": "2a770bb2",
   "metadata": {},
   "source": [
    "In the function `scipy.sparse.kron(A,B)` the matrices/vectors `A` and `B` can be sparse or dense. The tensor product is computed as a sparse matrix. The tensor product of two $2\\times2$ matrices $A$ and $B$ is as follows\n",
    "\n",
    "$$ A = \n",
    "\\begin{pmatrix}\n",
    "a_{11} & a_{12} \\\\ \n",
    "a_{21} & a_{22}\n",
    "\\end{pmatrix}, \n",
    "\\ \\ \\ \\ \n",
    "B = \n",
    "\\begin{pmatrix}\n",
    "b_{11} & b_{12} \\\\ \n",
    "b_{21} & b_{22}\n",
    "\\end{pmatrix},$$\n",
    "\n",
    "$$ A \\otimes B = \n",
    "\\begin{pmatrix}\n",
    "a_{11} B & a_{12} B \\\\ \n",
    "a_{21} B & a_{22} B\n",
    "\\end{pmatrix} = \n",
    "\\begin{pmatrix}\n",
    "a_{11} \\begin{pmatrix}\n",
    "b_{11} & b_{12} \\\\ \n",
    "b_{21} & b_{22}\n",
    "\\end{pmatrix} & a_{12} \\begin{pmatrix}\n",
    "b_{11} & b_{12} \\\\ \n",
    "b_{21} & b_{22}\n",
    "\\end{pmatrix} \\\\ \n",
    "a_{21} \\begin{pmatrix}\n",
    "b_{11} & b_{12} \\\\ \n",
    "b_{21} & b_{22}\n",
    "\\end{pmatrix} & a_{22} \\begin{pmatrix}\n",
    "b_{11} & b_{12} \\\\ \n",
    "b_{21} & b_{22}\n",
    "\\end{pmatrix}\n",
    "\\end{pmatrix} = \n",
    "\\begin{pmatrix}\n",
    "a_{11} b_{11} & a_{11} b_{12} & a_{12} b_{11} & a_{12} b_{12} \\\\ \n",
    "a_{11} b_{21} & a_{11} b_{22} & a_{12} b_{21} & a_{12} b_{22} \\\\ \n",
    "a_{21} b_{11} & a_{21} b_{12} & a_{22} b_{11} & a_{22} b_{12} \\\\ \n",
    "a_{21} b_{21} & a_{21} b_{22} & a_{22} b_{21} & a_{22} b_{22}\n",
    "\\end{pmatrix}.$$\n",
    "The sucture is similar for differently shaped matrices and vectors."
   ]
  },
  {
   "cell_type": "code",
   "execution_count": 51,
   "id": "112427a8",
   "metadata": {},
   "outputs": [
    {
     "name": "stdout",
     "output_type": "stream",
     "text": [
      "Result dense = \n",
      " [[ 1  2 -2 -4]\n",
      " [ 3  4 -6 -8]\n",
      " [-1 -2  2  4]\n",
      " [-3 -4  6  8]] \n",
      "\n",
      "Result sparse = \n",
      " [[ 1  2 -2 -4]\n",
      " [ 3  4 -6 -8]\n",
      " [-1 -2  2  4]\n",
      " [-3 -4  6  8]]\n"
     ]
    }
   ],
   "source": [
    "A = np.array([[1, -2], [-1, 2]])\n",
    "B = np.array([[1, 2], [3, 4]])\n",
    "\n",
    "result_dense = scipy.sparse.kron(A,B)\n",
    "\n",
    "print('Result dense = \\n',result_dense.todense(),'\\n')\n",
    "\n",
    "A = scipy.sparse.csr_matrix(A)\n",
    "B = scipy.sparse.csr_matrix(B)\n",
    "\n",
    "result_sparse = scipy.sparse.kron(A,B)\n",
    "\n",
    "print('Result sparse = \\n',result_sparse.todense())"
   ]
  },
  {
   "cell_type": "markdown",
   "id": "d1b5b0d0",
   "metadata": {},
   "source": [
    "## Least Square Fit"
   ]
  },
  {
   "cell_type": "markdown",
   "id": "ca455468",
   "metadata": {},
   "source": [
    "The package `scipy.linalg` also supports least-square fitting, a method that fits data points to a curve. The relavent function is `scipy.linalg.lstsq(A, c)`. To demonstrate how this works, we are going to use this function to approximate the values of $c_1$ and $c_2$ in the following function\n",
    "$$ y = c_1 x^2 + c_2 x.$$\n",
    "We will generate data points by adding noise to this function for certain values of $c_1$ and $c_2$. We will then then try to fit the noisy data with `scipy.linalg.lstsq(A, c)`, comparing our approximate values of $c_i$ to the actual values.\n",
    "\n",
    "Lets set \n",
    "$$ c_1 = 0.5$$ and $$ c_2 = 2.0$$\n",
    "$A$ is a matrix of the set of functions, of $x$, describing $y$. So in this case\n",
    "$$ A = [x^2,x]$$"
   ]
  },
  {
   "cell_type": "code",
   "execution_count": 52,
   "id": "0108a613",
   "metadata": {},
   "outputs": [
    {
     "data": {
      "image/png": "[encoded data removed]",
      "text/plain": [
       "<Figure size 640x480 with 1 Axes>"
      ]
     },
     "metadata": {},
     "output_type": "display_data"
    }
   ],
   "source": [
    "c1, c2 = 0.5, 2.0\n",
    "\n",
    "x = np.arange(11)\n",
    "\n",
    "y = c1*x**2 + c2*x\n",
    "\n",
    "noise = y + 0.2 * np.max(y) * rnd.random(len(y))\n",
    "\n",
    "A = np.c_[x**2,x]\n",
    "\n",
    "c, resid, rank, sigma = linalg.lstsq(A, noise)\n",
    "\n",
    "y2 = c[0]*x**2 + c[1]*x\n",
    "\n",
    "fig = plt.figure()\n",
    "ax = fig.add_axes([.1,.1,.8,.8])\n",
    "\n",
    "ax.plot(x,noise,'x',x,y2)\n",
    "ax.set_xlabel('$x$')\n",
    "ax.set_ylabel('$y$')\n",
    "\n",
    "plt.show()"
   ]
  },
  {
   "cell_type": "markdown",
   "id": "ac97f3a4",
   "metadata": {},
   "source": [
    "## Singular Value Decomposition"
   ]
  },
  {
   "cell_type": "markdown",
   "id": "d60a92b2",
   "metadata": {},
   "source": [
    "Singular value decomposition is an extension of the eigenvalue, eigenvector problem to non-square matrices. The following matrices, and vector, are generated using `scipy.linalg.svd()`\n",
    "$$ A = USv, $$\n",
    "where $A$ is a non-square matrix, $U$ is a square matrix, $S$ is a diagonal matrix, and $v$ is a vector."
   ]
  },
  {
   "cell_type": "code",
   "execution_count": 53,
   "id": "edbc7020",
   "metadata": {},
   "outputs": [
    {
     "name": "stdout",
     "output_type": "stream",
     "text": [
      "A =  [[0.87786746 0.51051299]\n",
      " [0.03760617 0.49497429]\n",
      " [0.1804092  0.32190255]] \n",
      "\n",
      "U =  [[-0.89903833  0.40494623 -0.1665792 ]\n",
      " [-0.30997582 -0.85728672 -0.41106504]\n",
      " [-0.30926537 -0.3179277   0.89625717]] \n",
      "\n",
      "Diagonal Elements =  [1.11390874 0.41601034] \n",
      "\n",
      "v =  [[-0.76908259 -0.63914942]\n",
      " [ 0.63914942 -0.76908259]] \n",
      "\n",
      "S =  [[1.11390874 0.        ]\n",
      " [0.         0.41601034]\n",
      " [0.         0.        ]] \n",
      "\n",
      "A =  [[0.87786746 0.51051299]\n",
      " [0.03760617 0.49497429]\n",
      " [0.1804092  0.32190255]]\n"
     ]
    }
   ],
   "source": [
    "A = rnd.random((3,2))\n",
    "print('A = ',A,'\\n')\n",
    "\n",
    "U, D, v = linalg.svd(A)\n",
    "\n",
    "print('U = ',U,'\\n')\n",
    "print('Diagonal Elements = ',D,'\\n')\n",
    "print('v = ',v,'\\n')\n",
    "\n",
    "S = scipy.sparse.lil_matrix((3,2))\n",
    "S[0,0] = D[0]\n",
    "S[1,1] = D[1]\n",
    "\n",
    "S = S.todense()\n",
    "print('S = ', S, '\\n')\n",
    "\n",
    "print('A = ',U*S*v)"
   ]
  },
  {
   "cell_type": "markdown",
   "id": "bad9d3ca",
   "metadata": {},
   "source": [
    "## Schur Decomposition"
   ]
  },
  {
   "cell_type": "markdown",
   "id": "23b01f49",
   "metadata": {},
   "source": [
    "The Schur Decomposition of $n\\times n$ matrices gives said matices in the form\n",
    "$$A = Z T Z^\\dagger $$\n",
    "\n",
    "Where $Z$ is a unitary matrix, and $T$ is an upper-triangular(or quasi-upper) matrix. We can request these matrices in a real or complex form using `scipy.linalg.schur(A)` and `scipy.linalg.schur(A,'complex')` or by using `scipy.linalg.rsf2csf(A)` for the complex form."
   ]
  },
  {
   "cell_type": "code",
   "execution_count": 54,
   "id": "0b4138e0",
   "metadata": {},
   "outputs": [
    {
     "name": "stdout",
     "output_type": "stream",
     "text": [
      "A =  [[0.63015759 0.07866373 0.94700434]\n",
      " [0.8373407  0.96551313 0.74703415]\n",
      " [0.6212803  0.14236477 0.48691623]] \n",
      "\n",
      "A =  [[0.63015759 0.07866373 0.94700434]\n",
      " [0.8373407  0.96551313 0.74703415]\n",
      " [0.6212803  0.14236477 0.48691623]] \n",
      "\n",
      "A =  [[0.63015759+0.j 0.07866373+0.j 0.94700434+0.j]\n",
      " [0.8373407 +0.j 0.96551313+0.j 0.74703415+0.j]\n",
      " [0.6212803 +0.j 0.14236477+0.j 0.48691623+0.j]]\n"
     ]
    }
   ],
   "source": [
    "A = rnd.random((3,3))\n",
    "print('A = ', A, '\\n')\n",
    "\n",
    "T, Z = linalg.schur(A)\n",
    "Tc, Zc = linalg.schur(A, 'complex')\n",
    "\n",
    "T, Z, Tc, Zc = map(np.matrix,(T,Z, Tc, Zc))\n",
    "\n",
    "print('A = ',Z*T*Z.H, '\\n')\n",
    "\n",
    "print('A = ',Zc*Tc*Zc.H)"
   ]
  },
  {
   "cell_type": "code",
   "execution_count": 55,
   "id": "d1e9d7c9",
   "metadata": {},
   "outputs": [
    {
     "name": "stdout",
     "output_type": "stream",
     "text": [
      "T =  [[ 1.60854984  0.05269232  0.97821817]\n",
      " [ 0.         -0.20330126  0.29601471]\n",
      " [ 0.          0.          0.67733836]]\n"
     ]
    }
   ],
   "source": [
    "print('T = ',T)"
   ]
  },
  {
   "cell_type": "code",
   "execution_count": 56,
   "id": "ac0e94b6",
   "metadata": {},
   "outputs": [
    {
     "name": "stdout",
     "output_type": "stream",
     "text": [
      "Z =  [[ 0.3801452   0.76145013  0.52505554]\n",
      " [ 0.86755609 -0.09672713 -0.48784248]\n",
      " [ 0.3206806  -0.64096612  0.69737105]]\n"
     ]
    }
   ],
   "source": [
    "print('Z = ',Z)"
   ]
  }
 ],
 "metadata": {
  "kernelspec": {
   "display_name": "Python 3 (ipykernel)",
   "language": "python",
   "name": "python3"
  },
  "language_info": {
   "codemirror_mode": {
    "name": "ipython",
    "version": 3
   },
   "file_extension": ".py",
   "mimetype": "text/x-python",
   "name": "python",
   "nbconvert_exporter": "python",
   "pygments_lexer": "ipython3",
   "version": "3.11.5"
  }
 },
 "nbformat": 4,
 "nbformat_minor": 5
}
