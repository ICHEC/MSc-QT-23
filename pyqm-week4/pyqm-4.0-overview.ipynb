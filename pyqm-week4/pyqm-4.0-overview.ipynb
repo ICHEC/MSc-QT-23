{
 "cells": [
  {
   "cell_type": "markdown",
   "id": "0a31e3f6",
   "metadata": {},
   "source": [
    "# <center>Python For Quantum Mechanics</center>\n",
    "\n",
    "# <center>Week 4: Overview</center>"
   ]
  },
  {
   "cell_type": "markdown",
   "id": "0aad66d5",
   "metadata": {},
   "source": [
    "## [4.1 Numpy Basics](./notebooks/pyqm-4.1-numpy-basics.ipynb) \n",
    "\n",
    "- Numpy Arrays\n",
    "- Copying Arrays\n",
    "- Basic Operators\n",
    "- Numpy Constants\n",
    "- Mathematical Functions\n",
    "- 0-Dimensional Arrays\n",
    "- Multi-Dimensional Arrays"
   ]
  },
  {
   "cell_type": "markdown",
   "id": "ee3f0dae",
   "metadata": {},
   "source": [
    "## [4.2 Numpy Array Creation & Manipulation](./notebooks/pyqm-4.2-numpy-array-creation-manipulation.ipynb) \n",
    "\n",
    "- Methods To Create Numpy Arrays\n",
    "- Non-Numerical Data Types\n",
    "- Indexing Numpy Arrays\n",
    "- Slicing Numpy Arrays\n",
    "- Array Manipulation"
   ]
  },
  {
   "cell_type": "markdown",
   "id": "67cda282",
   "metadata": {},
   "source": [
    "## [4.3 Numpy Linear Algebra ](./notebooks/pyqm-4.3-numpy-linear-algebra.ipynb) \n",
    "\n",
    "- Scalar Array Operations\n",
    "- Element-Wise Operations\n",
    "- Matrix Algera\n",
    "- Matrix Transformations\n"
   ]
  },
  {
   "cell_type": "markdown",
   "id": "00ffdf83",
   "metadata": {},
   "source": [
    "## [4.4 Numpy Tools ](./notebooks/pyqm-4.4-numpy-tools.ipynb) \n",
    "\n",
    "- Random Sampling\n",
    "- Binary Operations\n",
    "- Polynomials\n",
    "- Data Analysis\n",
    "- I/O"
   ]
  },
  {
   "cell_type": "markdown",
   "id": "93172df0",
   "metadata": {},
   "source": [
    "## [4.5 Cheatsheet ](./notebooks/pyqm-4.5-cheatsheet.ipynb) "
   ]
  },
  {
   "cell_type": "markdown",
   "id": "599e9dc4",
   "metadata": {},
   "source": [
    "## [Tutorial](PyQM_Tut.4_sol.ipynb) "
   ]
  },
  {
   "cell_type": "markdown",
   "id": "506f6782",
   "metadata": {},
   "source": [
    "## [Exercises ](PyQM_Ex.4_sol.ipynb) "
   ]
  }
 ],
 "metadata": {
  "kernelspec": {
   "display_name": "Python 3 (ipykernel)",
   "language": "python",
   "name": "python3"
  },
  "language_info": {
   "codemirror_mode": {
    "name": "ipython",
    "version": 3
   },
   "file_extension": ".py",
   "mimetype": "text/x-python",
   "name": "python",
   "nbconvert_exporter": "python",
   "pygments_lexer": "ipython3",
   "version": "3.9.6"
  }
 },
 "nbformat": 4,
 "nbformat_minor": 5
}
