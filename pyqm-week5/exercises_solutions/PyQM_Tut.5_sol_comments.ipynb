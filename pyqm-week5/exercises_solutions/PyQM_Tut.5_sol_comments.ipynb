{
 "cells": [
  {
   "cell_type": "markdown",
   "metadata": {
    "cell_id": "00000-41034960-cfcd-40d6-9234-767d7fb048c0",
    "deepnote_cell_type": "markdown",
    "tags": []
   },
   "source": [
    "<center>\n",
    "\n",
    "# Python for Quantum Mechanics: \n",
    "# Week 5: Excercises\n",
    "\n",
    "</center>"
   ]
  },
  {
   "cell_type": "markdown",
   "metadata": {},
   "source": [
    "## Exercise 1: Noise in qubits"
   ]
  },
  {
   "cell_type": "markdown",
   "metadata": {},
   "source": [
    "$$|000\\rangle,\\ |001\\rangle,\\ |010\\rangle,\\ |011\\rangle,\\ |100\\rangle,\\ |101\\rangle,\\ |110\\rangle,\\ |111>$$\n",
    "Run the following cell to generate a data set of 100 numbers between 0 and 7 inclusively called `count`. The array `freq` will give the frequency that each Label the numbers, 0 to 7, with the strings in `qbits_vals`."
   ]
  },
  {
   "cell_type": "code",
   "execution_count": null,
   "metadata": {},
   "outputs": [],
   "source": [
    "%matplotlib inline\n",
    "import matplotlib.pyplot as plt\n",
    "import numpy as np\n",
    "from matplotlib.animation import FuncAnimation"
   ]
  },
  {
   "cell_type": "code",
   "execution_count": null,
   "metadata": {},
   "outputs": [],
   "source": [
    "#Initialise a size 20 array of one particular random int for the purpose of illustrating the explosion part\n",
    "count = np.random.randint(8)*np.ones(20)\n",
    "#Append 80 random numbers between 0 and 7 inclusive to the array of 1s\n",
    "count = np.append(count,np.random.randint(8,size=80))\n",
    "#The first element of np.histogram returns the probability density at each bin, which is what we want to keep\n",
    "freq = np.histogram(count,bins=np.arange(-.5,8.5,1))[0]\n",
    "\n",
    "#Label the qubits\n",
    "#03b: 0 means pad with zeroes, 3 means a number with 3 digits, b means binary\n",
    "qubits_vals = [format(i,'03b') for i in range(8)]\n",
    "#Write labels into Dirac kets\n",
    "qubit_label = [r'$|' + qubits_val + r'\\rangle$' for qubits_val in qubits_vals]"
   ]
  },
  {
   "cell_type": "markdown",
   "metadata": {},
   "source": [
    "Make a histogram and pie chart of the data. Explode out the largest section in the pie chart. "
   ]
  },
  {
   "cell_type": "code",
   "execution_count": null,
   "metadata": {
    "scrolled": true
   },
   "outputs": [],
   "source": [
    "#Define a (1,2) subplot figure. figsize defines hztl and vtcl dimensions in inches\n",
    "fig, ax = plt.subplots(1, 2, figsize = (15, 6))\n",
    "\n",
    "#For the histogram, use the count, as density=True works out the freq for us already!\n",
    "#Set bins for 0-7 inclusive, with 0.5 either side and the label on the integer values\n",
    "ax[0].hist(count, density=True, bins=np.arange(-.5,8.5,1))\n",
    "ax[0].set_xticks([0,1,2,3,4,5,6,7])\n",
    "#Label ticks with qubit states instead\n",
    "ax[0].set_xticklabels(qubit_label)\n",
    "\n",
    "#For the explosion part, we need an array describing which elements get exploded (only the most common count(s)) and how \n",
    "#far from the centre we want to explode them\n",
    "id_max = np.where(freq == np.max(freq))\n",
    "print(id_max)\n",
    "expl = np.zeros(8)\n",
    "expl[id_max] = 0.3\n",
    "\n",
    "#AS DISCUSSED IN SESSION: here we assume only one qubit will be the most common one. If we have more than one, as a student cleverly pointed out\n",
    "#we must edit our code as follows:\n",
    "# for i in range(len(id_max)):\n",
    "#   expl[id_max[i]] = 0.3 \n",
    "\n",
    "ax[1].pie(freq, labels=qubit_label, explode = expl,shadow=True)\n",
    "\n",
    "plt.show()"
   ]
  },
  {
   "cell_type": "markdown",
   "metadata": {
    "cell_id": "00004-cde4d2de-e564-4d94-b44f-92a484a4db84",
    "deepnote_cell_type": "markdown",
    "tags": []
   },
   "source": [
    "## Exercise 2: Particle in a Box"
   ]
  },
  {
   "cell_type": "markdown",
   "metadata": {},
   "source": [
    "The eigenfunctions of a particle in a 1D box are\n",
    "$$\\psi_n(x) = \\sqrt{\\frac{2}{l}} \\sin \\left( \\frac{n \\pi x}{l} \\right).$$"
   ]
  },
  {
   "cell_type": "code",
   "execution_count": null,
   "metadata": {},
   "outputs": [],
   "source": [
    "def psi(n,x,l):\n",
    "    return np.sqrt(2/l) * np.sin(n*np.pi*x/l)"
   ]
  },
  {
   "cell_type": "markdown",
   "metadata": {},
   "source": [
    "Make a plot of some of these wavefunctions (changing $n \\in \\mathbb{N}$)."
   ]
  },
  {
   "cell_type": "code",
   "execution_count": null,
   "metadata": {
    "scrolled": true
   },
   "outputs": [],
   "source": [
    "#Lets plot the first 5 eigenfunctions\n",
    "#Lets set l as a variable, we will use l=1 initially, can play around with it later\n",
    "\n",
    "l=1\n",
    "x = np.arange(0,l,0.001)\n",
    "\n",
    "#Define our figure and axes objects as usual \n",
    "#[0,0,1,1]=[dist from left end, dist from bottom end, prop. of entire width, prop. of entire height]\n",
    "fig = plt.figure(figsize=(10,6))\n",
    "ax = fig.add_axes([0,0,1,1])\n",
    "\n",
    "#Define the plots, i.e. psi for n=1,...,5\n",
    "for n in range(1,6):\n",
    "    ax.plot(x, psi(n, x, l), label='$\\psi_'+str(n)+'(x)$')\n",
    "\n",
    "#Set axes limits and labels. Use Latex!\n",
    "ax.set_xlim(0*l,1*l)\n",
    "ax.set_ylim(-1.5,1.5)\n",
    "ax.set_xlabel('$x$')\n",
    "ax.set_ylabel('$\\psi$')\n",
    "\n",
    "#Set legend and grid and plot\n",
    "ax.legend(loc='lower left')\n",
    "ax.grid()\n",
    "\n",
    "plt.show()\n"
   ]
  },
  {
   "cell_type": "markdown",
   "metadata": {},
   "source": [
    "The the eigenfunctions of a particle in a 2D box are\n",
    "$$\\psi_{(n,m)}(x) = \\frac{2}{l} \\sin \\left( \\frac{n \\pi x}{l_x} \\right) \\sin \\left( \\frac{m \\pi y}{l_y} \\right).$$"
   ]
  },
  {
   "cell_type": "code",
   "execution_count": null,
   "metadata": {},
   "outputs": [],
   "source": [
    "def psi2d(n,m,x,y,lx,ly):\n",
    "    return (2/np.sqrt(lx*ly)) * np.sin(n*np.pi*x/lx) * np.sin(m*np.pi*y/ly)"
   ]
  },
  {
   "cell_type": "markdown",
   "metadata": {},
   "source": [
    "Make a plot of this using 3D plot."
   ]
  },
  {
   "cell_type": "code",
   "execution_count": null,
   "metadata": {},
   "outputs": [],
   "source": [
    "#FIRST we do a shadow (2d-projection) plot\n",
    "\n",
    "#First, we choose the dimensions of the box, and the values of n, m\n",
    "lx, ly= 10, 10\n",
    "n, m = 8, 8\n",
    "\n",
    "#Set x and y values for plot\n",
    "xs = np.arange(0, lx, 0.001)\n",
    "ys = np.arange(0, ly, 0.001)\n",
    "\n",
    "#Define x and y mesh and call psi2d to get the zmesh values (necessary for surface plot)\n",
    "xmesh, ymesh = np.meshgrid(xs,ys)\n",
    "zmesh = psi2d(n,m,xmesh,ymesh,lx,ly)\n",
    "\n",
    "#Define figure and axes as usual\n",
    "fig = plt.figure(figsize=(8, 8))\n",
    "ax = fig.add_axes([0,0,1,1])\n",
    "\n",
    "#Call imshow to generate shadow plot\n",
    "#Add extent=[xs.min(),xs.max(),ys.min(),ys.max()] to imshow to correct issue with axes... (remove the set_ticks lines at end if so)\n",
    "im = ax.imshow(zmesh, cmap = 'ocean')\n",
    "fig.colorbar(im, ax=ax, shrink=.8)\n",
    "ax.set_title('$\\psi_{'+str(n) + ',' + str(m)+'}(x,y)$', size = 25)\n",
    "\n",
    "#Axes wrong for some reason, so we drop them\n",
    "ax.set_xticks([])\n",
    "ax.set_yticks([])\n",
    "\n",
    "plt.show()"
   ]
  },
  {
   "cell_type": "code",
   "execution_count": null,
   "metadata": {},
   "outputs": [],
   "source": [
    "#Now lets create a 3D surface plot instead\n",
    "\n",
    "#Same as before...\n",
    "lx=10\n",
    "ly=10\n",
    "\n",
    "n=1\n",
    "m=1\n",
    "\n",
    "xs=np.arange(0,lx,.01)\n",
    "ys=np.arange(0,ly,.01)\n",
    "\n",
    "xmesh,ymesh = np.meshgrid(xs, ys)\n",
    "zmesh = psi2d(n,m,xmesh,ymesh,lx,ly)\n",
    "\n",
    "fig = plt.figure(figsize=(5,5))\n",
    "#...up to here\n",
    "#Remember to define projection attribute to 3d\n",
    "ax = fig.add_axes([0,0,1,1], projection='3d')\n",
    "\n",
    "ax.plot_surface(xmesh,ymesh,zmesh,cmap='ocean')\n",
    "ax.set_title('$\\psi_{'+str(n)+','+str(m)+'}(x,y)$', size=25)\n",
    "\n",
    "#Set axis limits for style\n",
    "ax.set_xlim(0,lx)\n",
    "ax.set_ylim(0,ly)\n",
    "\n",
    "plt.show()"
   ]
  },
  {
   "cell_type": "markdown",
   "metadata": {
    "cell_id": "00008-772c311d-21f4-410e-beaf-efffd80e4261",
    "deepnote_cell_type": "markdown",
    "tags": []
   },
   "source": [
    "## Exercise 3: Normal Distribution"
   ]
  },
  {
   "cell_type": "markdown",
   "metadata": {
    "cell_id": "00009-cda71b4c-8576-4de0-b957-104af25d30c7",
    "deepnote_cell_type": "markdown",
    "tags": []
   },
   "source": [
    "Create an $x$ and $y$ array of a normally distributed numbers. Plot them as the $x$ and $y$ coordinates on a scatter plot. Also make histograms along the $x$ and $y$ axes like this.\n",
    "\n",
    "<img src=\"images/normals.png\" alt=\"two dice\" width=\"300\"/>"
   ]
  },
  {
   "cell_type": "code",
   "execution_count": null,
   "metadata": {},
   "outputs": [],
   "source": [
    "#First define x and y as normally distributed numbers (mean=0, std=1, 500 points)\n",
    "\n",
    "x = np.random.normal(0,1,500)\n",
    "y = np.random.normal(0,1,500)\n",
    "\n",
    "#Define figure object as usual\n",
    "fig = plt.figure(figsize=(7,7))\n",
    "\n",
    "#Define placement of the figures (very important for this exercise)\n",
    "points = fig.add_axes([0.25, 0.25, 0.75, 0.75])\n",
    "yhist = fig.add_axes([0.25, 0, 0.75, 0.25])\n",
    "xhist = fig.add_axes([0, 0.25, 0.25, 0.75])\n",
    "\n",
    "#Define the scatter plot first (easy part)\n",
    "points.scatter(x, y, color='purple', marker = '.')\n",
    "\n",
    "#Now define histograms (harder part)\n",
    "\n",
    "yhist.hist(y, density=True, bins=20, color='r')\n",
    "#invert Y-axis as in sample output figure\n",
    "yhist.invert_yaxis()\n",
    "#join x-axis of yhist with that of the scatter plot as in the figure\n",
    "yhist.get_shared_x_axes().join(yhist, points)\n",
    "#adjust position of x and y ticks as in figure (this forces us to drop the ticks of the scatter plot to avoid duplicates)\n",
    "yhist.yaxis.tick_right()\n",
    "yhist.xaxis.tick_top()\n",
    "points.set_xticklabels([])\n",
    "\n",
    "#repeat the same again for xhist, remember to set the orientation parameter to horizontal!\n",
    "xhist.hist(x, density=True, bins=20, color='b', orientation = 'horizontal')\n",
    "xhist.invert_xaxis()\n",
    "xhist.get_shared_x_axes().join(xhist, points)\n",
    "xhist.yaxis.tick_right()\n",
    "xhist.xaxis.tick_top()\n",
    "points.set_yticklabels([])\n",
    "\n",
    "plt.show()\n"
   ]
  },
  {
   "cell_type": "markdown",
   "metadata": {},
   "source": [
    "## Exercise 4: Monte Carlo $\\pi$ Estimation"
   ]
  },
  {
   "cell_type": "markdown",
   "metadata": {},
   "source": [
    "Make a visualization of the process of estimating $\\pi$ with a Monte Carlo method used in tutrial 2 and 4."
   ]
  },
  {
   "cell_type": "code",
   "execution_count": null,
   "metadata": {},
   "outputs": [],
   "source": [
    "#Using %matplotlib notebook as stated in the provided notebooks does not work for my animations in VS Code\n",
    "#I have used ipympl instead. To use, install the Conda environment that I have uploaded (see solutions README!!!)\n",
    "\n",
    "#IMPORTANT: if using VS Code, restart your kernel before running this cell.\n",
    "\n",
    "%matplotlib ipympl\n",
    "import matplotlib.pyplot as plt\n",
    "import numpy as np\n",
    "from matplotlib.animation import FuncAnimation\n",
    "import numpy.random as rnd"
   ]
  },
  {
   "cell_type": "code",
   "execution_count": null,
   "metadata": {},
   "outputs": [],
   "source": [
    "#Before we begin, lets understand the problem and make a plot to help us visualise\n",
    "#what the Monte Carlo is doing\n",
    "\n",
    "#Initialise our number of tries (or random samples)\n",
    "n = 100\n",
    "#Initialise the random coordinates\n",
    "x = rnd.random(n)\n",
    "y = rnd.random(n)\n",
    "#Define the number of successes as the number of times a random point is within the sector\n",
    "successes = x**2 + y**2 < 1\n",
    "\n",
    "#Define the an array that stores the approximated value of pi, based on the number of attempts\n",
    "#Make sure you understand this, a lot going on in this one line!\n",
    "pi_approx = 4*np.cumsum(successes)/np.array(range(1,n+1))\n",
    "\n",
    "#Lets plot pi_approx against the number of tries to see what our MC is doing\n",
    "\n",
    "fig = plt.figure(figsize=(6,4))\n",
    "ax = fig.add_axes([0.1,0.1,0.8,0.8])\n",
    "\n",
    "#Add a red horizontal line to highlight the true value of pi\n",
    "ax.hlines(np.pi,0,n,color='r')\n",
    "ax.plot(np.arange(0,n,1),pi_approx)\n",
    "\n",
    "plt.show()\n",
    "\n"
   ]
  },
  {
   "cell_type": "code",
   "execution_count": null,
   "metadata": {},
   "outputs": [],
   "source": [
    "#Now lets get working\n",
    "#First we make the non-animated plot, then we animate, to see the key differences in the process\n",
    "#We are not plotting the value of pi evolution now, but rather the square, circular arc, and the random points\n",
    "\n",
    "n = 10000\n",
    "x = rnd.random(n)\n",
    "y = rnd.random(n)\n",
    "\n",
    "successes = x**2 + y**2 < 1\n",
    "pi_approx = 4*np.sum(successes)/n\n",
    "\n",
    "fig = plt.figure(figsize=(6,6))\n",
    "#Note that I am not using [0,0,1,1] because my version of ipympl does not show the axes' ticks otherwise! Strange...\n",
    "ax = fig.add_axes([0.1,0.1,0.8,0.8])\n",
    "\n",
    "#We will parametrise the circular arc using theta from 0 to pi/2\n",
    "#Create array with 100 evenly-spaced theta values\n",
    "theta = np.linspace(0,np.pi/2,100)\n",
    "ax.plot(np.cos(theta), np.sin(theta))\n",
    "ax.set_title(r'$\\pi \\approx' + str(pi_approx) + '$')\n",
    "\n",
    "#Colour successes and failures differently to highlight\n",
    "ax.scatter(x[successes], y[successes], .2, c='g',marker='o')\n",
    "ax.scatter(x[np.invert(successes)], y[np.invert(successes)], .2, c='r',marker='x')\n",
    "\n",
    "ax.set_xlim(0,1)\n",
    "ax.set_ylim(0,1)\n",
    "\n",
    "#plt.show()\n",
    "\n"
   ]
  },
  {
   "cell_type": "code",
   "execution_count": null,
   "metadata": {},
   "outputs": [],
   "source": [
    "#Lets animate!!!\n",
    "\n",
    "n = 10000\n",
    "x = rnd.random(n)\n",
    "y = rnd.random(n)\n",
    "\n",
    "#Same as before, but for ease in giving arguments to plot functions later we define specific successes and failure arrays\n",
    "successes = x**2 + y**2 < 1\n",
    "x_successes = x[successes]\n",
    "y_successes = y[successes]\n",
    "fails = np.invert(successes)\n",
    "x_fails = x[fails]\n",
    "y_fails = y[fails]\n",
    "\n",
    "pi_approx = 4*np.sum(successes)/n\n",
    "\n",
    "fig = plt.figure(figsize=(6,6))\n",
    "ax = fig.add_axes([0.1,0.1,0.8,0.8])\n",
    "\n",
    "theta = np.linspace(0,np.pi/2,100)\n",
    "ax.plot(np.cos(theta), np.sin(theta))\n",
    "\n",
    "#Define im1 and im2 as the (empty) plots for successes and fails (note the comma and the empty arrays, see the notebooks!)\n",
    "im1, = ax.plot([],[],'g.',markersize=3)\n",
    "im2, = ax.plot([],[],'rx',markersize=3)\n",
    "\n",
    "ax.set_xlim(0,1)\n",
    "ax.set_ylim(0,1)\n",
    "\n",
    "#Now onto the animation part\n",
    "#First define init, i.e. our starting point for the animation, i.e. empty axes, no approximation of pi yet\n",
    "\n",
    "def init():\n",
    "    ax.set_title(r'$\\pi \\approx 0$')\n",
    "    im1.set_data([], [])\n",
    "    im2.set_data([], [])\n",
    "    return im1,im2\n",
    "\n",
    "#Then define animate, which is in charge of defining what the animation does at step i\n",
    "def animate(i):\n",
    "    ax.set_title(r'$\\pi \\approx '+ format(4*sum(successes[0:i])/i,'.3f')+ ' $ after ' + str(i) +' tries')\n",
    "    im1.set_data(x_successes[0:i], y_successes[0:i])\n",
    "    im2.set_data(x_fails[0:i], y_fails[0:i])\n",
    "    return im1,im2\n",
    "\n",
    "anim = FuncAnimation(fig, animate, init_func=init, frames=10000, interval=.0001)\n",
    "\n",
    "plt.show()"
   ]
  },
  {
   "cell_type": "markdown",
   "metadata": {},
   "source": [
    "## Exercise 5: Ball Animation"
   ]
  },
  {
   "cell_type": "markdown",
   "metadata": {},
   "source": [
    "Make an animation where a ball is confined to a box and bounces each time a wall is hit. This should kind of look like the old monitor screensaver"
   ]
  },
  {
   "cell_type": "code",
   "execution_count": null,
   "metadata": {},
   "outputs": [],
   "source": [
    "#Using %matplotlib notebook as stated in the provided notebooks does not work for my animations in VS Code\n",
    "#I have used ipympl instead. To use, install the Conda environment that I have uploaded (see solutions README!!!)\n",
    "\n",
    "#IMPORTANT: if using VS Code, restart your kernel before running this cell.\n",
    "\n",
    "%matplotlib ipympl\n",
    "import matplotlib.pyplot as plt\n",
    "import numpy as np\n",
    "from matplotlib.animation import FuncAnimation"
   ]
  },
  {
   "cell_type": "code",
   "execution_count": null,
   "metadata": {},
   "outputs": [],
   "source": [
    "#Lets do this by defining a Ball class, where we define the initial position \n",
    "# and velocity of the ball, and where we define functions to evolve these under time\n",
    "\n",
    "#You should get familiarised with classes, you will see them everywhere, all the time!\n",
    "#They will help make your code way neater, simpler and powerful. \n",
    "\n",
    "class Ball():\n",
    "    \n",
    "    #Define initial state of the ball\n",
    "    def __init__(self, x=0, y=0, vx=0, vy=0):\n",
    "        self.x = x\n",
    "        self.y = y\n",
    "        self.vx = vx\n",
    "        self.vy = vy\n",
    "    \n",
    "    #Define time evolution of the position\n",
    "    def evolve(self,dt):\n",
    "        self.x += self.vx * dt\n",
    "        self.y += self.vy * dt\n",
    "\n",
    "    #Define what happens to x-velocity if the ball bounces     \n",
    "    def x_bounce(self):\n",
    "        self.vx *= -.9\n",
    "            \n",
    "    #Define what happens to y-velocity if the ball bounces     \n",
    "    def y_bounce(self):\n",
    "        self.vy *= -.9\n"
   ]
  },
  {
   "cell_type": "markdown",
   "metadata": {},
   "source": [
    "Make an animation where the ball is confined to a box and bounces each time a wall is hit. \n",
    "\n",
    "*Hint: To not get stuck in the wall don't go too fast and accompany each bounce with a small time evolution.*"
   ]
  },
  {
   "cell_type": "code",
   "execution_count": null,
   "metadata": {},
   "outputs": [],
   "source": [
    "#Initialise our ball with non-zero velocity\n",
    "b = Ball(vx=50, vy=20)\n",
    "#Define time step for time evolution\n",
    "dt = 0.0001\n",
    "\n",
    "#Define figure, same old story\n",
    "fig = plt.figure(figsize = (5,5))\n",
    "ax = fig.add_axes([.1,.1,.8,.8])\n",
    "ax.set_xlim(-1,1)\n",
    "ax.set_ylim(-1,1)\n",
    "\n",
    "ax.set_xticks([])\n",
    "ax.set_yticks([])\n",
    "\n",
    "#Define the line, variable as shown in lectures\n",
    "line, = ax.plot([], [], marker = 'o', ls = 'None')\n",
    "\n",
    "#Define initial state of the line variable\n",
    "def init():\n",
    "    line.set_data([], [])\n",
    "    return line,\n",
    "\n",
    "#Define the state of the plot at time step i \n",
    "def animate(i):\n",
    "    #Evolve ball position after time dt\n",
    "    b.evolve(dt)\n",
    "    #Store the time-evolved x,y in line (i.e. in what will produce the plot later)\n",
    "    line.set_data(b.x, b.y)\n",
    "    \n",
    "    #If ball hits x boundary on either side, bounce back into box\n",
    "    if np.abs(b.x)>1:\n",
    "        b.x_bounce()\n",
    "        b.evolve(dt)\n",
    "    \n",
    "    #If ball hits y boundary on either side, bounce back into box        \n",
    "    if np.abs(b.y)>1:\n",
    "        b.y_bounce()\n",
    "        b.evolve(dt)\n",
    "    \n",
    "    return line,\n",
    "\n",
    "anim = FuncAnimation(fig, animate, init_func=init, frames=1000, interval=0.1)\n",
    "\n",
    "plt.show()"
   ]
  },
  {
   "cell_type": "markdown",
   "metadata": {},
   "source": [
    "If you have made it here, you are now equipped with all the Matplotlib essentials. Well done! Turn off the laptop and give yourself, your eyes and your brain a well deserved rest :)"
   ]
  }
 ],
 "metadata": {
  "colab": {
   "collapsed_sections": [],
   "name": "PyQM_Ex.1_sol.ipynb",
   "provenance": []
  },
  "deepnote": {},
  "deepnote_execution_queue": [],
  "deepnote_notebook_id": "290fde53-7326-4351-a186-a6f6bc6d504a",
  "kernelspec": {
   "display_name": "Python 3 (ipykernel)",
   "language": "python",
   "name": "python3"
  },
  "language_info": {
   "codemirror_mode": {
    "name": "ipython",
    "version": 3
   },
   "file_extension": ".py",
   "mimetype": "text/x-python",
   "name": "python",
   "nbconvert_exporter": "python",
   "pygments_lexer": "ipython3",
   "version": "3.10.13"
  }
 },
 "nbformat": 4,
 "nbformat_minor": 1
}
